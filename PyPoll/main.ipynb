{
 "cells": [
  {
   "cell_type": "code",
   "execution_count": 60,
   "id": "ddc23016",
   "metadata": {},
   "outputs": [],
   "source": [
    "#import dependencies\n",
    "import pandas as pd"
   ]
  },
  {
   "cell_type": "code",
   "execution_count": 61,
   "id": "da802e54",
   "metadata": {},
   "outputs": [],
   "source": [
    "#import file\n",
    "file = 'Resources/election_data.csv'"
   ]
  },
  {
   "cell_type": "code",
   "execution_count": 62,
   "id": "bb84c714",
   "metadata": {},
   "outputs": [],
   "source": [
    "#read file\n",
    "file_df = pd.read_csv(file)"
   ]
  },
  {
   "cell_type": "code",
   "execution_count": 63,
   "id": "071315f7",
   "metadata": {},
   "outputs": [],
   "source": [
    "#calculate total number of votes\n",
    "cast = 0\n",
    "cast = len(file_df[\"Ballot ID\"].unique())"
   ]
  },
  {
   "cell_type": "code",
   "execution_count": 64,
   "id": "fd202595",
   "metadata": {},
   "outputs": [],
   "source": [
    "#name candidates voted on\n",
    "candidate = []\n",
    "candidate = file_df[\"Candidate\"].unique()"
   ]
  },
  {
   "cell_type": "code",
   "execution_count": 65,
   "id": "ec1af2a0",
   "metadata": {},
   "outputs": [],
   "source": [
    "#create DataFrame of total votes each candidate recieved\n",
    "votes = file_df[\"Candidate\"].value_counts().to_frame()"
   ]
  },
  {
   "cell_type": "code",
   "execution_count": 66,
   "id": "e6af88fd",
   "metadata": {},
   "outputs": [],
   "source": [
    "#assigning amount of votes to variables fore each candidate\n",
    "DeGette = votes[\"Candidate\"].values[0]\n",
    "Stockham = votes[\"Candidate\"].values[1]\n",
    "Doane = votes[\"Candidate\"].values[2]\n",
    "Votes_total = [Stockham, DeGette, Doane]"
   ]
  },
  {
   "cell_type": "code",
   "execution_count": 67,
   "id": "1ad17026",
   "metadata": {},
   "outputs": [],
   "source": [
    "#calculating percentage of total votes each candidate recieved\n",
    "percent_degette = (DeGette / cast)*100\n",
    "percent_doane = (Doane / cast)*100\n",
    "percent_stockham = (Stockham / cast)*100"
   ]
  },
  {
   "cell_type": "code",
   "execution_count": 68,
   "id": "870c295b",
   "metadata": {},
   "outputs": [],
   "source": [
    "#find winner\n",
    "winner_votes = votes.max()\n",
    "dict_candidates_and_votes = dict(zip(candidate, Votes_total))\n",
    "key = max(dict_candidates_and_votes, key=dict_candidates_and_votes.get)"
   ]
  },
  {
   "cell_type": "code",
   "execution_count": 69,
   "id": "378a4dc8",
   "metadata": {},
   "outputs": [
    {
     "name": "stdout",
     "output_type": "stream",
     "text": [
      "Election Results\n",
      "----------------------------\n",
      "Total Votes: 369711\n",
      "----------------------------\n",
      "Charles Casper Stockham: 23.049% (85213)\n",
      "Diana DeGette: 73.812% (272892)\n",
      "Raymon Anthony Doane: 3.139% (11606)\n",
      "----------------------------\n",
      "Winner: Diana DeGette\n",
      "----------------------------\n"
     ]
    }
   ],
   "source": [
    "#print results\n",
    "print(f\"Election Results\")\n",
    "print(f\"----------------------------\")\n",
    "print(f\"Total Votes: {cast}\")\n",
    "print(f\"----------------------------\")\n",
    "print(f\"Charles Casper Stockham: {percent_stockham:.3f}% ({Stockham})\")\n",
    "print(f\"Diana DeGette: {percent_degette:.3f}% ({DeGette})\")\n",
    "print(f\"Raymon Anthony Doane: {percent_doane:.3f}% ({Doane})\")\n",
    "print(f\"----------------------------\")\n",
    "print(f\"Winner: {key}\")\n",
    "print(f\"----------------------------\")"
   ]
  },
  {
   "cell_type": "code",
   "execution_count": 70,
   "id": "0bf335e6",
   "metadata": {},
   "outputs": [],
   "source": [
    "#output data in a text file\n",
    "output_file = 'analysis/output.txt'\n",
    "with open(output_file,\"w\") as file:\n",
    "    file.write(f\"Election Results\")\n",
    "    file.write(\"\\n\")\n",
    "    file.write(f\"----------------------------\")\n",
    "    file.write(\"\\n\")\n",
    "    file.write(f\"Total Votes: {cast}\")\n",
    "    file.write(\"\\n\")\n",
    "    file.write(f\"----------------------------\")\n",
    "    file.write(\"\\n\")\n",
    "    file.write(f\"Charles Casper Stockham: {percent_stockham:.3f}% ({Stockham})\")\n",
    "    file.write(\"\\n\")\n",
    "    file.write(f\"Diana DeGette: {percent_degette:.3f}% ({DeGette})\")\n",
    "    file.write(\"\\n\")\n",
    "    file.write(f\"Raymon Anthony Doane: {percent_doane:.3f}% ({Doane})\")\n",
    "    file.write(\"\\n\")\n",
    "    file.write(f\"----------------------------\")\n",
    "    file.write(\"\\n\")\n",
    "    file.write(f\"Winner: {key}\")\n",
    "    file.write(\"\\n\")\n",
    "    file.write(f\"----------------------------\")"
   ]
  }
 ],
 "metadata": {
  "kernelspec": {
   "display_name": "Python 3 (ipykernel)",
   "language": "python",
   "name": "python3"
  },
  "language_info": {
   "codemirror_mode": {
    "name": "ipython",
    "version": 3
   },
   "file_extension": ".py",
   "mimetype": "text/x-python",
   "name": "python",
   "nbconvert_exporter": "python",
   "pygments_lexer": "ipython3",
   "version": "3.9.12"
  }
 },
 "nbformat": 4,
 "nbformat_minor": 5
}
