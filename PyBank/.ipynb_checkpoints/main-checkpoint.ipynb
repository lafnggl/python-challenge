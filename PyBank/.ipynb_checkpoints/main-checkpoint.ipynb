{
 "cells": [
  {
   "cell_type": "code",
   "execution_count": 169,
   "id": "514aa794",
   "metadata": {},
   "outputs": [],
   "source": [
    "#import dependencies\n",
    "import pandas as pd"
   ]
  },
  {
   "cell_type": "code",
   "execution_count": 170,
   "id": "d0e61455",
   "metadata": {},
   "outputs": [],
   "source": [
    "#import file\n",
    "file = 'Resources/budget_data.csv'"
   ]
  },
  {
   "cell_type": "code",
   "execution_count": 171,
   "id": "5272698b",
   "metadata": {},
   "outputs": [],
   "source": [
    "#read file\n",
    "file_df = pd.read_csv(file)"
   ]
  },
  {
   "cell_type": "code",
   "execution_count": 172,
   "id": "8e20b280",
   "metadata": {},
   "outputs": [],
   "source": [
    "#calculate total months\n",
    "month_count = 0\n",
    "month_count = len(file_df[\"Date\"].unique())"
   ]
  },
  {
   "cell_type": "code",
   "execution_count": 173,
   "id": "add1ea80",
   "metadata": {},
   "outputs": [],
   "source": [
    "#Calculate Net total of Profits/Losses\n",
    "Net_count = 0\n",
    "Net_count = (file_df[\"Profit/Losses\"].sum())"
   ]
  },
  {
   "cell_type": "code",
   "execution_count": 174,
   "id": "d7b4796c",
   "metadata": {},
   "outputs": [],
   "source": [
    "#Find the Average Change in Profits/Losses\n",
    "ave = []\n",
    "average = 0\n",
    "profit = file_df[\"Profit/Losses\"].tolist()\n",
    "for i in range(len(profit)-1):\n",
    "    ave.append(profit[i+1]-profit[i])\n",
    "average = round(sum(ave)/len(ave),2)"
   ]
  },
  {
   "cell_type": "code",
   "execution_count": 175,
   "id": "fbffb044",
   "metadata": {},
   "outputs": [],
   "source": [
    "#Find the greatest increase and decrease of profits'Losses\n",
    "increase = 0\n",
    "decrease = 0\n",
    "increase_month = 0\n",
    "decrease_month = 0\n",
    "i_month = []\n",
    "d_month = []\n",
    "increase = max(profit)\n",
    "decrease = min(profit)\n",
    "increase_month = profit.index(max(profit)) \n",
    "i_month = file_df[\"Date\"].values[increase_month]\n",
    "decrease_month = profit.index(min(profit)) \n",
    "d_month = file_df[\"Date\"].values[decrease_month]"
   ]
  },
  {
   "cell_type": "code",
   "execution_count": 176,
   "id": "a053cc34",
   "metadata": {},
   "outputs": [
    {
     "name": "stdout",
     "output_type": "stream",
     "text": [
      "Financial Analysis\n",
      "----------------------------\n",
      "Total Months:86\n",
      "Total: $22564198\n",
      "Average Change: $-8311.11\n",
      "Greatest Increase in Profits: Mar-13 $1141840\n",
      "Greatest Decrease in Profits: Dec-10 $-1194133\n"
     ]
    }
   ],
   "source": [
    "#Print Analysis\n",
    "print(\"Financial Analysis\")\n",
    "print(\"----------------------------\")\n",
    "print(f\"Total Months:{month_count}\")\n",
    "print(f\"Total: ${Net_count}\")\n",
    "print(f\"Average Change: ${average}\")\n",
    "print(f\"Greatest Increase in Profits: {i_month} ${increase}\")\n",
    "print(f\"Greatest Decrease in Profits: {d_month} ${decrease}\")"
   ]
  },
  {
   "cell_type": "code",
   "execution_count": 179,
   "id": "64ff2a93",
   "metadata": {},
   "outputs": [],
   "source": [
    "#output data in a text file\n",
    "output_file = 'analysis/output.txt'\n",
    "with open(output_file,\"w\") as file:\n",
    "    file.write(\"Financial Analysis\")\n",
    "    file.write(\"\\n\")\n",
    "    file.write(\"----------------------------\")\n",
    "    file.write(\"\\n\")\n",
    "    file.write(f\"Total Months: {month_count} \")\n",
    "    file.write(\"\\n\")\n",
    "    file.write(f\"Total: ${Net_count} \")\n",
    "    file.write(\"\\n\")\n",
    "    file.write(f\"Average Change: ${average} \")\n",
    "    file.write(\"\\n\")\n",
    "    file.write(f\"Greatest Increase in Profits: {i_month} ${increase} \")\n",
    "    file.write(\"\\n\")\n",
    "    file.write(f\"Greatest Decrease in Profits: {d_month} ${decrease} \")"
   ]
  },
  {
   "cell_type": "code",
   "execution_count": null,
   "id": "6a83841e",
   "metadata": {},
   "outputs": [],
   "source": []
  }
 ],
 "metadata": {
  "kernelspec": {
   "display_name": "Python 3 (ipykernel)",
   "language": "python",
   "name": "python3"
  },
  "language_info": {
   "codemirror_mode": {
    "name": "ipython",
    "version": 3
   },
   "file_extension": ".py",
   "mimetype": "text/x-python",
   "name": "python",
   "nbconvert_exporter": "python",
   "pygments_lexer": "ipython3",
   "version": "3.9.12"
  }
 },
 "nbformat": 4,
 "nbformat_minor": 5
}
